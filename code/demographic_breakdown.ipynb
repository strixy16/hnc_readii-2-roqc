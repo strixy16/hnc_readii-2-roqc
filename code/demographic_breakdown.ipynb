{
 "cells": [
  {
   "cell_type": "code",
   "execution_count": 1,
   "metadata": {},
   "outputs": [
    {
     "name": "stderr",
     "output_type": "stream",
     "text": [
      "/Users/katyscott/opt/miniconda3/envs/radiogenomics/lib/python3.10/site-packages/pandas/core/arrays/masked.py:60: UserWarning: Pandas requires version '1.3.6' or newer of 'bottleneck' (version '1.3.5' currently installed).\n",
      "  from pandas.core import (\n",
      "/var/folders/71/rrp6j9vj3tv1mc89c__4w9bc0000gn/T/ipykernel_96375/2604094930.py:1: DeprecationWarning: \n",
      "Pyarrow will become a required dependency of pandas in the next major release of pandas (pandas 3.0),\n",
      "(to allow more performant data types, such as the Arrow string type, and better interoperability with other libraries)\n",
      "but was not found to be installed on your system.\n",
      "If this would cause problems for you,\n",
      "please provide us feedback at https://github.com/pandas-dev/pandas/issues/54466\n",
      "        \n",
      "  import pandas as pd\n"
     ]
    }
   ],
   "source": [
    "import pandas as pd\n",
    "import yaml\n",
    "import os\n",
    "from modelling_prep import *\n",
    "import numpy as np "
   ]
  },
  {
   "cell_type": "markdown",
   "metadata": {},
   "source": [
    "## Helper Functions"
   ]
  },
  {
   "cell_type": "code",
   "execution_count": 2,
   "metadata": {},
   "outputs": [],
   "source": [
    "def makeSignature(featsOnlyRadiomics, outcomeLabels, features = []):\n",
    "    if not features:\n",
    "        labeledFeats = pd.merge(outcomeLabels, featsOnlyRadiomics, left_index=True, right_index=True)\n",
    "    else:\n",
    "        signatureRadiomics = featsOnlyRadiomics[features]\n",
    "        labeledFeats = pd.merge(outcomeLabels, signatureRadiomics, left_index=True, right_index=True)\n",
    "\n",
    "    return labeledFeats"
   ]
  },
  {
   "cell_type": "code",
   "execution_count": 3,
   "metadata": {},
   "outputs": [],
   "source": [
    "def setupOutcome(filteredClinicalData, outcomeStatus):\n",
    "    statusLabel = outcomeStatus['event_label']\n",
    "    statusValues = outcomeStatus['event_values']\n",
    "    followupLabel = outcomeStatus['time_label']\n",
    "\n",
    "    if not isinstance(statusValues[0], int):\n",
    "        # Set up the outcome labels for the R script that applies the CPH models\n",
    "        outcomeLabels = outcomeLabelSetup(filteredClinicalData, statusLabel, statusValues, followupLabel)\n",
    "\n",
    "    else:\n",
    "        outcomeLabels = filteredClinicalData[[statusLabel, followupLabel]]\n",
    "\n",
    "    return outcomeLabels"
   ]
  },
  {
   "cell_type": "code",
   "execution_count": 4,
   "metadata": {},
   "outputs": [],
   "source": [
    "def dataSetup(completeRadiomicData):\n",
    "    # Set patient ID label and set as index for prep functions\n",
    "    radiomicPatID = getPatientIdentifierLabel(completeRadiomicData)\n",
    "    setupRadiomicData = completeRadiomicData.set_index(radiomicPatID)\n",
    "\n",
    "    if subsetExcludeVariables:\n",
    "        # Drop any of the excluded variables\n",
    "        filteredClinicalData, filteredRadiomicData = filterDataSetup(completeClinicalData, setupRadiomicData, subsetExcludeVariables=subsetExcludeVariables)\n",
    "    \n",
    "    else:\n",
    "       filteredClinicalData, filteredRadiomicData = filterDataSetup(completeClinicalData, setupRadiomicData)\n",
    "\n",
    "    # Get only radiomic features, remove Pyradiomics diagnostics columns\n",
    "    featsOnlyRadiomics = dropPyradiomicsDiagnostics(filteredRadiomicData)\n",
    "\n",
    "    return filteredClinicalData, filteredRadiomicData, featsOnlyRadiomics"
   ]
  },
  {
   "cell_type": "markdown",
   "metadata": {},
   "source": [
    "## Config setup"
   ]
  },
  {
   "cell_type": "code",
   "execution_count": 5,
   "metadata": {},
   "outputs": [],
   "source": [
    "# LOAD IN CONFIGURATION FILE AND SET UP VARIABLES\n",
    "configFile = \"../config/HEAD-NECK-RADIOMICS-HN1_config.yaml\"\n",
    "config = yaml.safe_load(open(configFile))\n",
    "\n",
    "clinicalDataPath = config['clinical_data_path']\n",
    "radiomicDirPath = config['radiomic_data_dir_path']\n",
    "\n",
    "datasetName = config[\"dataset_name\"]\n",
    "negControlNames = config['negative_control_names']\n",
    "outcomeStatus = config['outcome_status']\n",
    "\n",
    "subsetExcludeVariables = config['exclusion_variables']\n",
    "splitVariables = config['split_variables']\n",
    "trainTestSplit = config['train_test_split']\n",
    "\n",
    "outputDir = config['output_dir_path']"
   ]
  },
  {
   "cell_type": "markdown",
   "metadata": {},
   "source": [
    "## Data setup"
   ]
  },
  {
   "cell_type": "code",
   "execution_count": 6,
   "metadata": {},
   "outputs": [],
   "source": [
    "# Load in clinical data\n",
    "completeClinicalData = pd.read_excel(clinicalDataPath)\n",
    "# Get and set patient ID label as index for prep functions\n",
    "clinicalPatID = getPatientIdentifierLabel(completeClinicalData)\n",
    "completeClinicalData = completeClinicalData.set_index(clinicalPatID)"
   ]
  },
  {
   "cell_type": "code",
   "execution_count": 7,
   "metadata": {},
   "outputs": [],
   "source": [
    "# Load in original radiomic data\n",
    "radiomicDataPath = os.path.join(radiomicDirPath, (\"radiomicfeatures_\" + datasetName + \".csv\"))\n",
    "completeRadiomicData = pd.read_csv(radiomicDataPath)"
   ]
  },
  {
   "cell_type": "code",
   "execution_count": 8,
   "metadata": {},
   "outputs": [
    {
     "name": "stdout",
     "output_type": "stream",
     "text": [
      "Multiple patient identifier labels found. Using the first one.\n"
     ]
    }
   ],
   "source": [
    "# RUN DATA SETUP\n",
    "filteredClinical, filteredOriginalRadData, featsOnlyOriginalRadiomics = dataSetup(completeRadiomicData)\n",
    "outcomeLabels = setupOutcome(filteredClinical, outcomeStatus)\n",
    "allFeatures = makeSignature(featsOnlyOriginalRadiomics, outcomeLabels)"
   ]
  },
  {
   "cell_type": "markdown",
   "metadata": {},
   "source": [
    "## Demographic analysis"
   ]
  },
  {
   "cell_type": "code",
   "execution_count": 9,
   "metadata": {},
   "outputs": [
    {
     "data": {
      "text/plain": [
       "biological_sex\n",
       "male      111\n",
       "female     26\n",
       "Name: count, dtype: int64"
      ]
     },
     "execution_count": 9,
     "metadata": {},
     "output_type": "execute_result"
    }
   ],
   "source": [
    "# Data Demographic Analysis\n",
    "sexVariable = config['sex_variable']\n",
    "filteredClinical[sexVariable].value_counts(dropna=False)"
   ]
  },
  {
   "cell_type": "code",
   "execution_count": 10,
   "metadata": {},
   "outputs": [
    {
     "name": "stdout",
     "output_type": "stream",
     "text": [
      "Median: 61.0\n",
      "Min: 44\n",
      "Max: 83\n",
      "\n",
      "  <40: 0\n",
      "40-60: 55\n",
      "60-80: 78\n",
      "  >80: 4\n",
      "Quantiles: [44. 56. 61. 67. 83.]\n"
     ]
    }
   ],
   "source": [
    "ageVariable = config[\"age_variable\"]\n",
    "print(\"Median:\", filteredClinical[ageVariable].median())\n",
    "print(\"Min:\", filteredClinical[ageVariable].min())\n",
    "print(\"Max:\", filteredClinical[ageVariable].max())\n",
    "print(\"\")\n",
    "print(\"  <40:\", len(filteredClinical[filteredClinical[ageVariable] <= 40]))\n",
    "print(\"40-60:\", len(filteredClinical[filteredClinical[ageVariable] >= 40]) - len(filteredClinical[filteredClinical[ageVariable] >= 60]))\n",
    "print(\"60-80:\", len(filteredClinical[filteredClinical[ageVariable] >= 60]) - len(filteredClinical[filteredClinical[ageVariable] >= 80]))\n",
    "print(\"  >80:\", len(filteredClinical[filteredClinical[ageVariable] >= 80]))\n",
    "print(\"Quantiles:\", np.quantile(filteredClinical[ageVariable], [0, 0.25, 0.5, 0.75, 1]))"
   ]
  },
  {
   "cell_type": "code",
   "execution_count": null,
   "metadata": {},
   "outputs": [],
   "source": []
  }
 ],
 "metadata": {
  "kernelspec": {
   "display_name": "radiogenomics",
   "language": "python",
   "name": "python3"
  },
  "language_info": {
   "codemirror_mode": {
    "name": "ipython",
    "version": 3
   },
   "file_extension": ".py",
   "mimetype": "text/x-python",
   "name": "python",
   "nbconvert_exporter": "python",
   "pygments_lexer": "ipython3",
   "version": "3.10.8"
  }
 },
 "nbformat": 4,
 "nbformat_minor": 2
}
