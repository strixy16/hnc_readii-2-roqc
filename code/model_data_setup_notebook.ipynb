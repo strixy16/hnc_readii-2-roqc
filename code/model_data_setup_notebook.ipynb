{
 "cells": [
  {
   "cell_type": "code",
   "execution_count": 1,
   "metadata": {},
   "outputs": [
    {
     "name": "stderr",
     "output_type": "stream",
     "text": [
      "/Users/katyscott/opt/miniconda3/envs/radiogenomics/lib/python3.10/site-packages/pandas/core/arrays/masked.py:60: UserWarning: Pandas requires version '1.3.6' or newer of 'bottleneck' (version '1.3.5' currently installed).\n",
      "  from pandas.core import (\n",
      "/var/folders/71/rrp6j9vj3tv1mc89c__4w9bc0000gn/T/ipykernel_40932/2922967115.py:1: DeprecationWarning: \n",
      "Pyarrow will become a required dependency of pandas in the next major release of pandas (pandas 3.0),\n",
      "(to allow more performant data types, such as the Arrow string type, and better interoperability with other libraries)\n",
      "but was not found to be installed on your system.\n",
      "If this would cause problems for you,\n",
      "please provide us feedback at https://github.com/pandas-dev/pandas/issues/54466\n",
      "        \n",
      "  import pandas as pd\n"
     ]
    }
   ],
   "source": [
    "import pandas as pd\n",
    "import yaml\n",
    "import os\n",
    "from modelling_prep import *"
   ]
  },
  {
   "cell_type": "markdown",
   "metadata": {},
   "source": [
    "## Config setup"
   ]
  },
  {
   "cell_type": "code",
   "execution_count": 2,
   "metadata": {},
   "outputs": [],
   "source": [
    "# LOAD IN CONFIGURATION FILE AND SET UP VARIABLES\n",
    "configFile = \"../config/Head-Neck-PET-CT_config.yaml\"\n",
    "config = yaml.safe_load(open(configFile))\n",
    "\n",
    "clinicalDataPath = config['clinical_data_path']\n",
    "radiomicDirPath = config['radiomic_data_dir_path']\n",
    "\n",
    "datasetName = config[\"dataset_name\"]\n",
    "negControlNames = config['negative_control_names']\n",
    "outcomeStatus = config['outcome_status']\n",
    "\n",
    "subsetExcludeVariables = config['exclusion_variables']\n",
    "splitVariables = config['split_variables']\n",
    "\n",
    "outputDir = config['output_dir_path']"
   ]
  },
  {
   "cell_type": "markdown",
   "metadata": {},
   "source": [
    "## Clinical data setup"
   ]
  },
  {
   "cell_type": "code",
   "execution_count": 3,
   "metadata": {},
   "outputs": [],
   "source": [
    "# Load in clinical data\n",
    "completeClinicalData = pd.read_excel(clinicalDataPath)\n",
    "# Get and set patient ID label as index for prep functions\n",
    "clinicalPatID = getPatientIdentifierLabel(completeClinicalData)\n",
    "completeClinicalData = completeClinicalData.set_index(clinicalPatID)"
   ]
  },
  {
   "cell_type": "markdown",
   "metadata": {},
   "source": [
    "## Helper Functions"
   ]
  },
  {
   "cell_type": "code",
   "execution_count": 4,
   "metadata": {},
   "outputs": [],
   "source": [
    "def dataSetup(completeRadiomicData):\n",
    "    # Set patient ID label and set as index for prep functions\n",
    "    radiomicPatID = getPatientIdentifierLabel(completeRadiomicData)\n",
    "    setupRadiomicData = completeRadiomicData.set_index(radiomicPatID)\n",
    "\n",
    "    if subsetExcludeVariables:\n",
    "        # Drop any of the excluded variables\n",
    "        filteredClinicalData, filteredRadiomicData = filterDataSetup(completeClinicalData, setupRadiomicData, subsetExcludeVariables=subsetExcludeVariables)\n",
    "    \n",
    "    else:\n",
    "       filteredClinicalData, filteredRadiomicData = filterDataSetup(completeClinicalData, setupRadiomicData)\n",
    "\n",
    "    # Get only radiomic features, remove Pyradiomics diagnostics columns\n",
    "    featsOnlyRadiomics = dropPyradiomicsDiagnostics(filteredRadiomicData)\n",
    "\n",
    "    return filteredClinicalData, filteredRadiomicData, featsOnlyRadiomics"
   ]
  },
  {
   "cell_type": "code",
   "execution_count": 5,
   "metadata": {},
   "outputs": [],
   "source": [
    "def setupOutcome(filteredClinicalData, outcomeStatus):\n",
    "    statusLabel = outcomeStatus['event_label']\n",
    "    statusValues = outcomeStatus['event_values']\n",
    "    followupLabel = outcomeStatus['time_label']\n",
    "\n",
    "    if not isinstance(statusValues[0], int):\n",
    "        # Set up the outcome labels for the R script that applies the CPH models\n",
    "        outcomeLabels = outcomeLabelSetup(filteredClinicalData, statusLabel, statusValues, followupLabel)\n",
    "\n",
    "    else:\n",
    "        outcomeLabels = filteredClinicalData[[statusLabel, followupLabel]]\n",
    "\n",
    "    return outcomeLabels"
   ]
  },
  {
   "cell_type": "code",
   "execution_count": 6,
   "metadata": {},
   "outputs": [],
   "source": [
    "def makeSignature(featsOnlyRadiomics, outcomeLabels, features = []):\n",
    "    if not features:\n",
    "        labeledFeats = pd.merge(outcomeLabels, featsOnlyRadiomics, left_index=True, right_index=True)\n",
    "    else:\n",
    "        signatureRadiomics = featsOnlyRadiomics[features]\n",
    "        labeledFeats = pd.merge(outcomeLabels, signatureRadiomics, left_index=True, right_index=True)\n",
    "\n",
    "    return labeledFeats"
   ]
  },
  {
   "cell_type": "markdown",
   "metadata": {},
   "source": [
    "# Running preprocessing"
   ]
  },
  {
   "cell_type": "markdown",
   "metadata": {},
   "source": [
    "## For original image data"
   ]
  },
  {
   "cell_type": "code",
   "execution_count": 7,
   "metadata": {},
   "outputs": [],
   "source": [
    "# Load in original radiomic data\n",
    "radiomicDataPath = os.path.join(radiomicDirPath, (\"radiomicfeatures_\" + datasetName + \".csv\"))\n",
    "completeRadiomicData = pd.read_csv(radiomicDataPath)"
   ]
  },
  {
   "cell_type": "code",
   "execution_count": 8,
   "metadata": {},
   "outputs": [
    {
     "name": "stdout",
     "output_type": "stream",
     "text": [
      "Multiple patient identifier labels found. Using the first one.\n"
     ]
    }
   ],
   "source": [
    "# RUN DATA SETUP\n",
    "filteredClinical, filteredOriginalRadData, featsOnlyOriginalRadiomics = dataSetup(completeRadiomicData)\n",
    "outcomeLabels = setupOutcome(filteredClinical, outcomeStatus)\n",
    "allFeatures = makeSignature(featsOnlyOriginalRadiomics, outcomeLabels)"
   ]
  },
  {
   "cell_type": "code",
   "execution_count": null,
   "metadata": {},
   "outputs": [],
   "source": [
    "# SAVE OUT FILTERED CLINICAL DATA\n",
    "filteredClinicalOutFile = os.path.join(os.path.dirname(clinicalDataPath), \"filtered_r2r_clinical_data_\" + datasetName + \".xlsx\")\n",
    "filteredClinical.to_excel(filteredClinicalOutFile, index_label=\"patientID\")"
   ]
  },
  {
   "cell_type": "code",
   "execution_count": null,
   "metadata": {},
   "outputs": [],
   "source": [
    "# Set up output file name\n",
    "outputAllFeatFile = \"labeled_radiomic_features_\" + datasetName + \".csv\"\n",
    "# Set up output directory\n",
    "allFeatsDirPath = os.path.join(outputDir, \"all_features\")\n",
    "if not os.path.exists(allFeatsDirPath):\n",
    "    os.makedirs(allFeatsDirPath)\n",
    "# Save out cph model features\n",
    "allFeatures.to_csv(os.path.join(allFeatsDirPath, outputAllFeatFile), index_label=\"patientID\")"
   ]
  },
  {
   "cell_type": "code",
   "execution_count": null,
   "metadata": {},
   "outputs": [],
   "source": [
    "# Make signatures\n",
    "aertsData = makeSignature(featsOnlyOriginalRadiomics, outcomeLabels, \n",
    "                          features=['original_firstorder_Energy', \n",
    "                                    'original_shape_Compactness1', \n",
    "                                    'original_glrlm_GrayLevelNonUniformity',\n",
    "                                    'wavelet-HLH_glrlm_GrayLevelNonUniformity'])\n",
    "\n",
    "volumeData = makeSignature(featsOnlyOriginalRadiomics, outcomeLabels,\n",
    "                           features=[\"original_shape_MeshVolume\"])"
   ]
  },
  {
   "cell_type": "code",
   "execution_count": null,
   "metadata": {},
   "outputs": [],
   "source": [
    "# Save out Aerts signature\n",
    "outputAertsFile = \"aerts_radiomic_features_\" + datasetName + \".csv\"\n",
    "\n",
    "# Set up output directory\n",
    "aertsFeatsDirPath = os.path.join(outputDir,\"aerts_signature\")\n",
    "if not os.path.exists(aertsFeatsDirPath):\n",
    "    os.makedirs(aertsFeatsDirPath)\n",
    "\n",
    "aertsData.to_csv(os.path.join(aertsFeatsDirPath, outputAertsFile), index_label=\"patientID\")"
   ]
  },
  {
   "cell_type": "code",
   "execution_count": null,
   "metadata": {},
   "outputs": [],
   "source": [
    "# Save out volume signature\n",
    "outputVolumeFile = \"vol_only_radiomic_features_\" + datasetName + \".csv\"\n",
    "\n",
    "# Set up output directory\n",
    "volumeFeatsDirPath = os.path.join(outputDir,\"volume_signature\")\n",
    "if not os.path.exists(volumeFeatsDirPath):\n",
    "    os.makedirs(volumeFeatsDirPath)\n",
    "\n",
    "volumeData.to_csv(os.path.join(volumeFeatsDirPath, outputVolumeFile), index_label=\"patientID\")"
   ]
  },
  {
   "cell_type": "markdown",
   "metadata": {},
   "source": [
    "## For negative controls"
   ]
  },
  {
   "cell_type": "code",
   "execution_count": null,
   "metadata": {},
   "outputs": [],
   "source": [
    "for negControl in negControlNames:\n",
    "    # Put negative control at front of dataset\n",
    "    datasetName = negControl + \"_\" + config[\"dataset_name\"]\n",
    "    radiomicDataPath = os.path.join(radiomicDirPath, (\"radiomicfeatures_\" + datasetName + \".csv\"))\n",
    "    completeRadiomicData = pd.read_csv(radiomicDataPath)\n",
    "    \n",
    "    filteredClinical, filteredOriginalRadData, featsOnlyOriginalRadiomics = dataSetup(completeRadiomicData)\n",
    "    outcomeLabels = setupOutcome(filteredClinical, outcomeStatus)\n",
    "    allFeatures = makeSignature(featsOnlyOriginalRadiomics, outcomeLabels)\n",
    "\n",
    "    # Save out cph model features\n",
    "    outputAllFeatFile = \"labeled_radiomic_features_\" + datasetName + \".csv\"\n",
    "    allFeatures.to_csv(os.path.join(outputDir, \"all_features\", outputAllFeatFile), index_label=\"patientID\")\n",
    "\n",
    "    # AERTS SIGNATURE\n",
    "    aertsData = makeSignature(featsOnlyOriginalRadiomics, outcomeLabels, \n",
    "                            features=['original_firstorder_Energy', \n",
    "                                        'original_shape_Compactness1', \n",
    "                                        'original_glrlm_GrayLevelNonUniformity',\n",
    "                                        'wavelet-HLH_glrlm_GrayLevelNonUniformity'])\n",
    "    \n",
    "    # Save out Aerts signature\n",
    "    outputAertsFile = \"aerts_radiomic_features_\" + datasetName + \".csv\"\n",
    "    aertsData.to_csv(os.path.join(outputDir, \"aerts_signature\", outputAertsFile), index_label=\"patientID\")\n",
    "\n",
    "    # VOLUME SIGNATURE\n",
    "    volumeData = makeSignature(featsOnlyOriginalRadiomics, outcomeLabels,\n",
    "                            features=[\"original_shape_MeshVolume\"])\n",
    "    \n",
    "    # Save out volume signature\n",
    "    outputVolumeFile = \"vol_only_radiomic_features_\" + datasetName + \".csv\"\n",
    "    volumeData.to_csv(os.path.join(outputDir, \"volume_signature\", outputVolumeFile), index_label=\"patientID\")"
   ]
  },
  {
   "cell_type": "markdown",
   "metadata": {},
   "source": [
    "## Train / Test split"
   ]
  },
  {
   "cell_type": "code",
   "execution_count": null,
   "metadata": {},
   "outputs": [],
   "source": [
    "signatures={'all': allFeatures, 'aerts': aertsData, 'volume': volumeData}\n",
    "\n",
    "for sig, features in signatures.items():\n",
    "    trainOutputDir = os.path.join(outputDir, \"training\", (sig + \"_signature\"))\n",
    "    testOutputDir = os.path.join(outputDir, \"test\", (sig + \"_signature\"))\n",
    "\n",
    "    if not os.path.exists(trainOutputDir):\n",
    "        os.makedirs(trainOutputDir)\n",
    "    if not os.path.exists(testOutputDir):\n",
    "        os.makedirs(testOutputDir)\n",
    "\n",
    "    splitClinical, splitFeatures = splitDataSetup(filteredClinical, features, splitVariables=splitVariables)\n",
    "\n",
    "    trainFeatures = splitFeatures['training']\n",
    "    testFeatures = splitFeatures['test']\n",
    "\n",
    "    outputTrainFeatsFile = \"training_\" + sig + \"_radiomic_features_\" + datasetName + \".csv\"\n",
    "    outputTestFeatsFile = \"test_\" + sig + \"_radiomic_features_\" + datasetName + \".csv\"\n",
    "\n",
    "    trainFeatures.to_csv(os.path.join(trainOutputDir, outputTrainFeatsFile), index_label=\"patientID\")\n",
    "    testFeatures.to_csv(os.path.join(testOutputDir, outputTestFeatsFile), index_label=\"patientID\")\n",
    "    "
   ]
  },
  {
   "cell_type": "markdown",
   "metadata": {},
   "source": [
    "## Demographic analysis"
   ]
  },
  {
   "cell_type": "code",
   "execution_count": null,
   "metadata": {},
   "outputs": [],
   "source": [
    "# Data Demographic Analysis\n",
    "filteredClinical['Sex'].value_counts(dropna=False)"
   ]
  },
  {
   "cell_type": "code",
   "execution_count": null,
   "metadata": {},
   "outputs": [],
   "source": [
    "ageVariable = \"Age\"\n",
    "print(\"Median:\", filteredClinical[ageVariable].median())\n",
    "print(\"Min:\", filteredClinical[ageVariable].min())\n",
    "print(\"Max:\", filteredClinical[ageVariable].max())\n",
    "print(\"\")\n",
    "print(\"  <40:\", len(filteredClinical[filteredClinical[ageVariable] <= 40]))\n",
    "print(\"40-60:\", len(filteredClinical[filteredClinical[ageVariable] >= 40]) - len(filteredClinical[filteredClinical[ageVariable] >= 60]))\n",
    "print(\"60-80:\", len(filteredClinical[filteredClinical[ageVariable] >= 60]) - len(filteredClinical[filteredClinical[ageVariable] >= 80]))\n",
    "print(\"  >80:\", len(filteredClinical[filteredClinical[ageVariable] >= 80]))"
   ]
  },
  {
   "cell_type": "markdown",
   "metadata": {},
   "source": [
    "# OLD CODE"
   ]
  },
  {
   "cell_type": "code",
   "execution_count": null,
   "metadata": {},
   "outputs": [],
   "source": [
    "negControlName = 'randomized_sampled_full'\n",
    "outputDir = \"/Users/katyscott/Documents/HNC Project/RADCURE/aerts_signature_features\""
   ]
  },
  {
   "cell_type": "code",
   "execution_count": null,
   "metadata": {},
   "outputs": [],
   "source": [
    "# Set paths to clinical and radiomic data files\n",
    "clinicalDataPath = \"/Users/katyscott/Documents/RADCURE/RADCURE-DA-CLINICAL-2.xlsx\"\n",
    "radiomicDataPath = \"/Users/katyscott/Documents/HNC Project/RADCURE/radiomic_features/RADCURE_complete_\" + negControlName + \"_radiomics_features.csv\""
   ]
  },
  {
   "cell_type": "code",
   "execution_count": null,
   "metadata": {},
   "outputs": [],
   "source": [
    "# Set any conditions for variables to drop from the analysis \n",
    "subsetExcludeVariables = {'RADCURE-challenge': [0],\n",
    "                          'Ds Site': ['Sarcoma', 'Unknown', 'Paraganglioma', 'Salivary Glands', 'Other', 'benign tumor', 'Orbit', 'Lacrimal gland'] }"
   ]
  },
  {
   "cell_type": "code",
   "execution_count": null,
   "metadata": {},
   "outputs": [],
   "source": [
    "# Load in clinical and radiomic data\n",
    "completeClinicalData = pd.read_excel(clinicalDataPath)\n",
    "completeRadiomicData = pd.read_csv(radiomicDataPath)"
   ]
  },
  {
   "cell_type": "code",
   "execution_count": null,
   "metadata": {},
   "outputs": [],
   "source": [
    "# Find the patient ID column in the clinical and radiomic data to set these as the index for all the modelling_prep functionality\n",
    "clinicalPatID = getPatientIdentifierLabel(completeClinicalData)\n",
    "radiomicPatID = getPatientIdentifierLabel(completeRadiomicData)"
   ]
  },
  {
   "cell_type": "code",
   "execution_count": null,
   "metadata": {},
   "outputs": [],
   "source": [
    "# Set patient ID as index in clinical and radiomic data for modelling_prep functions\n",
    "completeClinicalData = completeClinicalData.set_index(clinicalPatID)\n",
    "completeRadiomicData = completeRadiomicData.set_index(radiomicPatID)"
   ]
  },
  {
   "cell_type": "code",
   "execution_count": null,
   "metadata": {},
   "outputs": [],
   "source": [
    "# Drop any of the excluded variables\n",
    "filteredClinical, filteredRadiomics = filterDataSetup(completeClinicalData, completeRadiomicData, subsetExcludeVariables=subsetExcludeVariables)"
   ]
  },
  {
   "cell_type": "code",
   "execution_count": null,
   "metadata": {},
   "outputs": [],
   "source": [
    "# Get only radiomic features, remove Pyradiomics diagnostics columns\n",
    "featsOnlyRadiomics = dropPyradiomicsDiagnostics(filteredRadiomics)"
   ]
  },
  {
   "cell_type": "code",
   "execution_count": null,
   "metadata": {},
   "outputs": [],
   "source": [
    "# Set up the outcome labels for the R script that applies the CPH models\n",
    "outcomeLabels = outcomeLabelSetup(filteredClinical, statusLabel='Status', statusValues=['Alive', 'Dead'], followupLabel=\"Length FU\")"
   ]
  },
  {
   "cell_type": "code",
   "execution_count": null,
   "metadata": {},
   "outputs": [],
   "source": [
    "# Save out the filtered clinical data that removed non-RADCURE challenge and low instance disease sites\n",
    "filteredClinical.to_csv(\"/Users/katyscott/Documents/HNC Project/RADCURE/clinical_data/updated_filtered_clinical_data_RADCURE.csv\")"
   ]
  },
  {
   "cell_type": "code",
   "execution_count": null,
   "metadata": {},
   "outputs": [],
   "source": [
    "filteredClinical['Ds Site'].value_counts()"
   ]
  },
  {
   "cell_type": "markdown",
   "metadata": {},
   "source": [
    "## Set up Aerts signature"
   ]
  },
  {
   "cell_type": "code",
   "execution_count": null,
   "metadata": {},
   "outputs": [],
   "source": [
    "# Get subset of radiomic features optionally\n",
    "aertsSignature = ['original_firstorder_Energy',\n",
    "                  'original_shape_Compactness1',\n",
    "                  'original_glrlm_GrayLevelNonUniformity',\n",
    "                  'wavelet-HLH_glrlm_GrayLevelNonUniformity']\n",
    "\n",
    "aertsRadiomics = featsOnlyRadiomics[aertsSignature]\n",
    "\n",
    "aertsLabeledFeats = pd.merge(outcomeLabels, aertsRadiomics, left_index=True, right_index=True)"
   ]
  },
  {
   "cell_type": "code",
   "execution_count": null,
   "metadata": {},
   "outputs": [],
   "source": [
    "# Separate clinical into train/test based on column\n",
    "# Separate radiomic into train/test based on clinical\n",
    "\n",
    "trainTestSplitInfo = {\"RADCURE-challenge\": [\"training\", \"test\"]}\n",
    "\n",
    "splitClinical, splitAertsLabeledFeats = splitDataSetup(filteredClinical, aertsLabeledFeats, splitVariables=trainTestSplitInfo)"
   ]
  },
  {
   "cell_type": "code",
   "execution_count": null,
   "metadata": {},
   "outputs": [],
   "source": [
    "trainClinical = splitClinical[\"training\"]\n",
    "testClinical = splitClinical[\"test\"]\n",
    "\n",
    "trainAertsLabeledFeats = splitAertsLabeledFeats['training']\n",
    "testAertsLabeledFeats = splitAertsLabeledFeats['test']"
   ]
  },
  {
   "cell_type": "code",
   "execution_count": null,
   "metadata": {},
   "outputs": [],
   "source": [
    "# Save out train/test \n",
    "trainAertsLabeledFeats.to_csv(\"/Users/katyscott/Documents/RADCURE/RADCURE_updated_data/uhn_radcure_plus_aerts/training/\" + negControlName + \"_aerts_w_labels.csv\")\n",
    "testAertsLabeledFeats.to_csv(\"/Users/katyscott/Documents/RADCURE/RADCURE_updated_data/uhn_radcure_plus_aerts/test/test_nc_random_aerts_w_labels.csv\")"
   ]
  },
  {
   "cell_type": "code",
   "execution_count": null,
   "metadata": {},
   "outputs": [],
   "source": [
    "trainClinical.shape"
   ]
  },
  {
   "cell_type": "code",
   "execution_count": null,
   "metadata": {},
   "outputs": [],
   "source": [
    "testClinical.shape"
   ]
  },
  {
   "cell_type": "code",
   "execution_count": null,
   "metadata": {},
   "outputs": [],
   "source": [
    "trainAertsLabeledFeats[\"Status_bool\"].sum()"
   ]
  },
  {
   "cell_type": "markdown",
   "metadata": {},
   "source": [
    "## Set up volume only data"
   ]
  },
  {
   "cell_type": "code",
   "execution_count": null,
   "metadata": {},
   "outputs": [],
   "source": [
    "volumeRadiomics = featsOnlyRadiomics[\"original_shape_MeshVolume\"]\n",
    "volumeLabeledFeats = pd.merge(outcomeLabels, volumeRadiomics, left_index=True, right_index=True)"
   ]
  },
  {
   "cell_type": "code",
   "execution_count": null,
   "metadata": {},
   "outputs": [],
   "source": [
    "trainTestSplitInfo = {\"RADCURE-challenge\": [\"training\", \"test\"]}\n",
    "\n",
    "splitClinical, splitVolumeLabeledFeats = splitDataSetup(filteredClinical, volumeLabeledFeats, splitVariables=trainTestSplitInfo)"
   ]
  },
  {
   "cell_type": "code",
   "execution_count": null,
   "metadata": {},
   "outputs": [],
   "source": [
    "trainClinical = splitClinical[\"training\"]\n",
    "testClinical = splitClinical[\"test\"]\n",
    "\n",
    "trainVolumeLabeledFeats = splitVolumeLabeledFeats['training']\n",
    "testVolumeLabeledFeats = splitVolumeLabeledFeats['test']"
   ]
  },
  {
   "cell_type": "code",
   "execution_count": null,
   "metadata": {},
   "outputs": [],
   "source": [
    "trainClinical.shape"
   ]
  },
  {
   "cell_type": "code",
   "execution_count": null,
   "metadata": {},
   "outputs": [],
   "source": [
    "trainVolumeLabeledFeats.to_csv(\"/Users/katyscott/Documents/RADCURE/RADCURE_updated_data/uhn_radcure_plus_aerts/training/volume_w_labels.csv\")\n",
    "testVolumeLabeledFeats.to_csv(\"/Users/katyscott/Documents/RADCURE/RADCURE_updated_data/uhn_radcure_plus_aerts/test/test_volume_w_labels.csv\")"
   ]
  },
  {
   "cell_type": "markdown",
   "metadata": {},
   "source": [
    "## Oropharynx Data Only (Kwan model)"
   ]
  },
  {
   "cell_type": "code",
   "execution_count": null,
   "metadata": {},
   "outputs": [],
   "source": [
    "# Get OPC-1 patient list to confirm there's no overlap with the test set from RADCURE \n",
    "opc1_patient_list = pd.read_csv(\"/Users/katyscott/Documents/RADCURE/RADCURE patient id to OPC-Radiomics patient id mapping.csv\")"
   ]
  },
  {
   "cell_type": "code",
   "execution_count": null,
   "metadata": {},
   "outputs": [],
   "source": [
    "opcIdentifier = {'Ds Site': [\"Oropharynx\"]}\n",
    "testOPCClinical, testOPCAerts = splitDataSetup(testClinical, testAertsLabeledFeats, opcIdentifier)"
   ]
  },
  {
   "cell_type": "code",
   "execution_count": null,
   "metadata": {},
   "outputs": [],
   "source": [
    "testOPCClinical, testOPCVolume = splitDataSetup(testClinical, testVolumeLabeledFeats, opcIdentifier)"
   ]
  },
  {
   "cell_type": "code",
   "execution_count": null,
   "metadata": {},
   "outputs": [],
   "source": [
    "dfTestOPClinical = testOPCClinical['Oropharynx']\n",
    "dfTestOPCVolume = testOPCVolume['Oropharynx']\n",
    "dfTestOPCAerts = testOPCAerts['Oropharynx']"
   ]
  },
  {
   "cell_type": "code",
   "execution_count": null,
   "metadata": {},
   "outputs": [],
   "source": [
    "dfTestOPCAerts.to_csv(\"/Users/katyscott/Documents/RADCURE/RADCURE_updated_data/uhn_radcure_plus_aerts/test/OPC_test_nc_random_aerts_w_labels.csv\")\n",
    "dfTestOPCVolume.to_csv(\"/Users/katyscott/Documents/RADCURE/RADCURE_updated_data/uhn_radcure_plus_aerts/test/OPC_test_volume_w_labels.csv\")"
   ]
  },
  {
   "cell_type": "markdown",
   "metadata": {},
   "source": [
    "### Confirming Test OPC set doesn't overlap with the OPC-Radiomics dataset"
   ]
  },
  {
   "cell_type": "code",
   "execution_count": null,
   "metadata": {},
   "outputs": [],
   "source": [
    "test_opc_pat_list = dfTestOPClinical.index.tolist()"
   ]
  },
  {
   "cell_type": "code",
   "execution_count": null,
   "metadata": {},
   "outputs": [],
   "source": [
    "list(set(opc1_patient_list['RADCURE']).intersection(test_opc_pat_list))"
   ]
  },
  {
   "cell_type": "markdown",
   "metadata": {},
   "source": [
    "## Get training OPC-1 dataset"
   ]
  },
  {
   "cell_type": "code",
   "execution_count": null,
   "metadata": {},
   "outputs": [],
   "source": [
    "opc1_train_radiomic = completeRadiomicData[completeRadiomicData.index.isin(opc1_patient_list['RADCURE'])]\n",
    "opc1_train_clinical = completeClinicalData[completeClinicalData.index.isin(opc1_train_radiomic.index)]"
   ]
  },
  {
   "cell_type": "code",
   "execution_count": null,
   "metadata": {},
   "outputs": [],
   "source": [
    "opc1_outcome_labels = outcomeLabelSetup(opc1_train_clinical, statusLabel='Status', statusValues=['Alive', 'Dead'], followupLabel=\"Length FU\")"
   ]
  },
  {
   "cell_type": "code",
   "execution_count": null,
   "metadata": {},
   "outputs": [],
   "source": [
    "opc1_train_featsOnly = dropPyradiomicsDiagnostics(opc1_train_radiomic)\n",
    "opc1_train_aerts_radiomics = opc1_train_featsOnly[aertsSignature]\n",
    "\n",
    "opc1AertsLabeledFeats = pd.merge(opc1_outcome_labels, opc1_train_aerts_radiomics, left_index=True, right_index=True)"
   ]
  },
  {
   "cell_type": "code",
   "execution_count": null,
   "metadata": {},
   "outputs": [],
   "source": [
    "opc1AertsLabeledFeats.to_csv(\"/Users/katyscott/Documents/RADCURE/RADCURE_updated_data/uhn_radcure_plus_aerts/training/OPC1_train_aerts_w_labels.csv\")"
   ]
  },
  {
   "cell_type": "markdown",
   "metadata": {},
   "source": [
    "### Getting actual OPC-Radiomics Kwan subset from p16 status"
   ]
  },
  {
   "cell_type": "code",
   "execution_count": null,
   "metadata": {},
   "outputs": [],
   "source": [
    "opc1_p16_positive_clinical = pd.read_excel(\"/Users/katyscott/Documents/RADCURE/OPC1_p16_positive_subset.xlsx\")\n",
    "pat_ids_opc1_p16_positive = opc1_p16_positive_clinical['Trial PatientID']"
   ]
  },
  {
   "cell_type": "code",
   "execution_count": null,
   "metadata": {},
   "outputs": [],
   "source": [
    "pat_ids_radcure_opc1_p16_pos = opc1_patient_list[opc1_patient_list['OPC-Radiomics'].isin(pat_ids_opc1_p16_positive)]"
   ]
  },
  {
   "cell_type": "code",
   "execution_count": null,
   "metadata": {},
   "outputs": [],
   "source": [
    "multi_lesion = pd.read_csv(\"/Users/katyscott/Downloads/multiple-lesions-ids.csv\")\n",
    "\n",
    "pat_id_multilesion_p16_pos = pat_ids_radcure_opc1_p16_pos[pat_ids_radcure_opc1_p16_pos['RADCURE'].isin(multi_lesion['USUBJID'])]"
   ]
  },
  {
   "cell_type": "code",
   "execution_count": null,
   "metadata": {},
   "outputs": [],
   "source": []
  }
 ],
 "metadata": {
  "kernelspec": {
   "display_name": "radiogenomics",
   "language": "python",
   "name": "python3"
  },
  "language_info": {
   "codemirror_mode": {
    "name": "ipython",
    "version": 3
   },
   "file_extension": ".py",
   "mimetype": "text/x-python",
   "name": "python",
   "nbconvert_exporter": "python",
   "pygments_lexer": "ipython3",
   "version": "3.10.8"
  }
 },
 "nbformat": 4,
 "nbformat_minor": 2
}
