{
 "cells": [
  {
   "cell_type": "code",
   "execution_count": 1,
   "metadata": {},
   "outputs": [
    {
     "name": "stderr",
     "output_type": "stream",
     "text": [
      "/Users/katyscott/opt/miniconda3/envs/radiogenomics/lib/python3.10/site-packages/pandas/core/arrays/masked.py:60: UserWarning: Pandas requires version '1.3.6' or newer of 'bottleneck' (version '1.3.5' currently installed).\n",
      "  from pandas.core import (\n",
      "/var/folders/71/rrp6j9vj3tv1mc89c__4w9bc0000gn/T/ipykernel_29085/3130051639.py:1: DeprecationWarning: \n",
      "Pyarrow will become a required dependency of pandas in the next major release of pandas (pandas 3.0),\n",
      "(to allow more performant data types, such as the Arrow string type, and better interoperability with other libraries)\n",
      "but was not found to be installed on your system.\n",
      "If this would cause problems for you,\n",
      "please provide us feedback at https://github.com/pandas-dev/pandas/issues/54466\n",
      "        \n",
      "  import pandas as pd\n"
     ]
    }
   ],
   "source": [
    "import pandas as pd\n",
    "from modelling_prep import *\n",
    "import os"
   ]
  },
  {
   "cell_type": "code",
   "execution_count": null,
   "metadata": {},
   "outputs": [],
   "source": [
    "hnscc_clinical = pd.read_excel(\"/Users/katyscott/Documents/HNC Project/data/HNSCC/clinical_data/HNSCC-MDA-Data_update_20240514.xlsx\")"
   ]
  },
  {
   "cell_type": "code",
   "execution_count": null,
   "metadata": {},
   "outputs": [],
   "source": [
    "hnscc_clinical[hnscc_clinical['Follow up duration (month)'] > hnscc_clinical['Survival  (months)']]"
   ]
  },
  {
   "cell_type": "code",
   "execution_count": null,
   "metadata": {},
   "outputs": [],
   "source": []
  },
  {
   "cell_type": "markdown",
   "metadata": {},
   "source": [
    "## Add compactness to main radiomics file"
   ]
  },
  {
   "cell_type": "code",
   "execution_count": 2,
   "metadata": {},
   "outputs": [],
   "source": [
    "datasetName = \"HNSCC\""
   ]
  },
  {
   "cell_type": "code",
   "execution_count": 6,
   "metadata": {},
   "outputs": [
    {
     "name": "stdout",
     "output_type": "stream",
     "text": [
      "396\n",
      "396\n"
     ]
    }
   ],
   "source": [
    "radFileName = \"radiomicfeatures_\" + datasetName + \".csv\"\n",
    "compactnessRadiomics = pd.read_csv(os.path.join(\"/Users/katyscott/Documents/HNC Project/data/\", datasetName, \"radiomic_features_compactness/\", radFileName))\n",
    "\n",
    "baseRadiomics = pd.read_csv(os.path.join(\"/Users/katyscott/Documents/HNC Project/data/\", datasetName, \"radiomic_features/\", radFileName))\n",
    "\n",
    "print(len(baseRadiomics))\n",
    "print(len(compactnessRadiomics))"
   ]
  },
  {
   "cell_type": "code",
   "execution_count": null,
   "metadata": {},
   "outputs": [],
   "source": [
    "negControls = ['shuffled_full', 'shuffled_roi', 'shuffled_non_roi','randomized_full', 'randomized_roi', 'randomized_non_roi', 'randomized_sampled_full',] # 'randomized_sampled_roi', 'randomized_sampled_non_roi']\n",
    "\n",
    "for negControl in negControls:\n",
    "    radFileName =  \"radiomicfeatures_\" + negControl + \"_\" + datasetName + \".csv\"\n",
    "\n",
    "    compactnessRadiomics = pd.read_csv(os.path.join(\"/Users/katyscott/Documents/HNC Project/data/\", datasetName, \"radiomic_features_compactness/\", radFileName))\n",
    "\n",
    "    baseRadiomics = pd.read_csv(os.path.join(\"/Users/katyscott/Documents/HNC Project/data/\", datasetName, \"radiomic_features/\", radFileName))\n",
    "    print(\"# of patients in base\", negControl, \"radiomics:\", len(baseRadiomics))\n",
    "    print(\"# of patients in compactness\", negControl, \"radiomics:\", len(compactnessRadiomics))"
   ]
  },
  {
   "cell_type": "code",
   "execution_count": 9,
   "metadata": {},
   "outputs": [],
   "source": [
    "negControl = \"shuffled_non_roi\"\n",
    "radFileName =  \"radiomicfeatures_\" + negControl + \"_\" + datasetName + \".csv\"\n",
    "\n",
    "compactnessRadiomics = pd.read_csv(os.path.join(\"/Users/katyscott/Documents/HNC Project/data/\", datasetName, \"radiomic_features_compactness/\", radFileName))\n",
    "\n",
    "baseRadiomics = pd.read_csv(os.path.join(\"/Users/katyscott/Documents/HNC Project/data/\", datasetName, \"radiomic_features/\", radFileName))"
   ]
  },
  {
   "cell_type": "code",
   "execution_count": 10,
   "metadata": {},
   "outputs": [
    {
     "name": "stdout",
     "output_type": "stream",
     "text": [
      "Multiple patient identifier labels found. Using the first one.\n",
      "Multiple patient identifier labels found. Using the first one.\n"
     ]
    }
   ],
   "source": [
    "comRadID = getPatientIdentifierLabel(compactnessRadiomics)\n",
    "baseRadID = getPatientIdentifierLabel(baseRadiomics)\n",
    "\n",
    "compactnessRadiomics.set_index(comRadID, inplace=True)\n",
    "baseRadiomics.set_index(baseRadID, inplace=True)\n",
    "\n",
    "# Check that patient IDs match\n",
    "if all(compactnessRadiomics.index == baseRadiomics.index):\n",
    "\n",
    "    compactOnly = compactnessRadiomics['original_shape_Compactness1']\n",
    "\n",
    "    originalRadiomicsCols = baseRadiomics.filter(regex=r'^original_*')\n",
    "    insertIndex = baseRadiomics.columns.get_loc(originalRadiomicsCols.columns[0])\n",
    "\n",
    "    baseRadiomics.insert(insertIndex, 'original_shape_Compactness1', compactOnly)\n",
    "\n",
    "else:\n",
    "    print(\"Mismatched patient IDs in compactness and base radiomics\")"
   ]
  },
  {
   "cell_type": "code",
   "execution_count": 11,
   "metadata": {},
   "outputs": [],
   "source": [
    "outputPath = os.path.join(\"/Users/katyscott/Documents/HNC Project/data/\", datasetName, \"total_radiomic_features/\", radFileName)\n",
    "baseRadiomics.to_csv(outputPath)"
   ]
  },
  {
   "cell_type": "code",
   "execution_count": null,
   "metadata": {},
   "outputs": [],
   "source": [
    "for idx in range(0, len(compactnessRadiomics)):\n",
    "    if not (baseRadiomics.iat[idx,0] == compactnessRadiomics.iat[idx,0]):\n",
    "        print(idx)\n",
    "        print(\"Base rad value:\", baseRadiomics.iat[idx,0])\n",
    "        print(\"Compact rad value:\", compactnessRadiomics.iat[idx,0])\n",
    "        break"
   ]
  },
  {
   "cell_type": "code",
   "execution_count": null,
   "metadata": {},
   "outputs": [],
   "source": []
  },
  {
   "cell_type": "code",
   "execution_count": null,
   "metadata": {},
   "outputs": [],
   "source": []
  }
 ],
 "metadata": {
  "kernelspec": {
   "display_name": "yarea",
   "language": "python",
   "name": "python3"
  },
  "language_info": {
   "codemirror_mode": {
    "name": "ipython",
    "version": 3
   },
   "file_extension": ".py",
   "mimetype": "text/x-python",
   "name": "python",
   "nbconvert_exporter": "python",
   "pygments_lexer": "ipython3",
   "version": "3.10.8"
  }
 },
 "nbformat": 4,
 "nbformat_minor": 2
}
