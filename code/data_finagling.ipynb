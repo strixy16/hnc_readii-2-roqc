{
 "cells": [
  {
   "cell_type": "code",
   "execution_count": 12,
   "metadata": {},
   "outputs": [],
   "source": [
    "import pandas as pd\n",
    "from modelling_prep import *\n",
    "import os"
   ]
  },
  {
   "cell_type": "code",
   "execution_count": null,
   "metadata": {},
   "outputs": [],
   "source": [
    "hnscc_clinical = pd.read_excel(\"/Users/katyscott/Documents/HNC Project/data/HNSCC/clinical_data/HNSCC-MDA-Data_update_20240514.xlsx\")"
   ]
  },
  {
   "cell_type": "code",
   "execution_count": null,
   "metadata": {},
   "outputs": [],
   "source": [
    "hnscc_clinical[hnscc_clinical['Follow up duration (month)'] > hnscc_clinical['Survival  (months)']]"
   ]
  },
  {
   "cell_type": "code",
   "execution_count": null,
   "metadata": {},
   "outputs": [],
   "source": []
  },
  {
   "cell_type": "markdown",
   "metadata": {},
   "source": [
    "## Add compactness to main radiomics file"
   ]
  },
  {
   "cell_type": "code",
   "execution_count": 8,
   "metadata": {},
   "outputs": [],
   "source": [
    "datasetName = \"HEAD-NECK-RADIOMICS-HN1\""
   ]
  },
  {
   "cell_type": "code",
   "execution_count": 9,
   "metadata": {},
   "outputs": [
    {
     "name": "stdout",
     "output_type": "stream",
     "text": [
      "137\n",
      "137\n"
     ]
    }
   ],
   "source": [
    "radFileName = \"radiomicfeatures_\" + datasetName + \".csv\"\n",
    "compactnessRadiomics = pd.read_csv(os.path.join(\"/Users/katyscott/Documents/HNC Project/data/\", datasetName, \"radiomic_features_compactness/\", radFileName))\n",
    "\n",
    "baseRadiomics = pd.read_csv(os.path.join(\"/Users/katyscott/Documents/HNC Project/data/\", datasetName, \"radiomic_features/\", radFileName))\n",
    "\n",
    "print(len(baseRadiomics))\n",
    "print(len(compactnessRadiomics))"
   ]
  },
  {
   "cell_type": "code",
   "execution_count": 10,
   "metadata": {},
   "outputs": [
    {
     "name": "stdout",
     "output_type": "stream",
     "text": [
      "# of patients in base shuffled_full radiomics: 137\n",
      "# of patients in compactness shuffled_full radiomics: 137\n",
      "# of patients in base shuffled_roi radiomics: 137\n",
      "# of patients in compactness shuffled_roi radiomics: 137\n",
      "# of patients in base shuffled_non_roi radiomics: 137\n",
      "# of patients in compactness shuffled_non_roi radiomics: 137\n",
      "# of patients in base randomized_sampled_full radiomics: 137\n",
      "# of patients in compactness randomized_sampled_full radiomics: 137\n",
      "# of patients in base randomized_sampled_roi radiomics: 137\n",
      "# of patients in compactness randomized_sampled_roi radiomics: 137\n",
      "# of patients in base randomized_sampled_non_roi radiomics: 137\n",
      "# of patients in compactness randomized_sampled_non_roi radiomics: 137\n"
     ]
    }
   ],
   "source": [
    "negControls = ['shuffled_full', 'shuffled_roi', 'shuffled_non_roi', 'randomized_sampled_full', 'randomized_sampled_roi', 'randomized_sampled_non_roi']\n",
    "#'randomized_full', 'randomized_roi', 'randomized_non_roi',\n",
    "\n",
    "for negControl in negControls:\n",
    "    radFileName =  \"radiomicfeatures_\" + negControl + \"_\" + datasetName + \".csv\"\n",
    "\n",
    "    compactnessRadiomics = pd.read_csv(os.path.join(\"/Users/katyscott/Documents/HNC Project/data/\", datasetName, \"radiomic_features_compactness/\", radFileName))\n",
    "\n",
    "    baseRadiomics = pd.read_csv(os.path.join(\"/Users/katyscott/Documents/HNC Project/data/\", datasetName, \"radiomic_features/\", radFileName))\n",
    "    print(\"# of patients in base\", negControl, \"radiomics:\", len(baseRadiomics))\n",
    "    print(\"# of patients in compactness\", negControl, \"radiomics:\", len(compactnessRadiomics))"
   ]
  },
  {
   "cell_type": "code",
   "execution_count": 16,
   "metadata": {},
   "outputs": [
    {
     "name": "stdout",
     "output_type": "stream",
     "text": [
      "Multiple patient identifier labels found. Using the first one.\n",
      "Multiple patient identifier labels found. Using the first one.\n",
      "Multiple patient identifier labels found. Using the first one.\n",
      "Multiple patient identifier labels found. Using the first one.\n",
      "Multiple patient identifier labels found. Using the first one.\n",
      "Multiple patient identifier labels found. Using the first one.\n",
      "Multiple patient identifier labels found. Using the first one.\n",
      "Multiple patient identifier labels found. Using the first one.\n",
      "Multiple patient identifier labels found. Using the first one.\n",
      "Multiple patient identifier labels found. Using the first one.\n",
      "Multiple patient identifier labels found. Using the first one.\n",
      "Multiple patient identifier labels found. Using the first one.\n",
      "Multiple patient identifier labels found. Using the first one.\n",
      "Multiple patient identifier labels found. Using the first one.\n"
     ]
    }
   ],
   "source": [
    "negControls = ['shuffled_full_', 'shuffled_roi_', 'shuffled_non_roi_', 'randomized_sampled_full_', 'randomized_sampled_roi_', 'randomized_sampled_non_roi_', '']\n",
    "#'randomized_full', 'randomized_roi', 'randomized_non_roi',\n",
    "\n",
    "for negControl in negControls:\n",
    "    radFileName =  \"radiomicfeatures_\" + negControl + datasetName + \".csv\"\n",
    "\n",
    "    compactnessRadiomics = pd.read_csv(os.path.join(\"/Users/katyscott/Documents/HNC Project/data/\", datasetName, \"radiomic_features_compactness/\", radFileName))\n",
    "\n",
    "    baseRadiomics = pd.read_csv(os.path.join(\"/Users/katyscott/Documents/HNC Project/data/\", datasetName, \"radiomic_features/\", radFileName))\n",
    "\n",
    "    comRadID = getPatientIdentifierLabel(compactnessRadiomics)\n",
    "    baseRadID = getPatientIdentifierLabel(baseRadiomics)\n",
    "\n",
    "    compactnessRadiomics.set_index(comRadID, inplace=True)\n",
    "    baseRadiomics.set_index(baseRadID, inplace=True)\n",
    "\n",
    "    # Check that patient IDs match\n",
    "    if all(compactnessRadiomics.index == baseRadiomics.index):\n",
    "\n",
    "        compactOnly = compactnessRadiomics['original_shape_Compactness1']\n",
    "\n",
    "        originalRadiomicsCols = baseRadiomics.filter(regex=r'^original_*')\n",
    "        insertIndex = baseRadiomics.columns.get_loc(originalRadiomicsCols.columns[0])\n",
    "\n",
    "        baseRadiomics.insert(insertIndex, 'original_shape_Compactness1', compactOnly)\n",
    "\n",
    "        outputPath = os.path.join(\"/Users/katyscott/Documents/HNC Project/data/\", datasetName, \"total_radiomic_features/\", radFileName)\n",
    "\n",
    "        if not os.path.exists(os.path.dirname(outputPath)):\n",
    "            os.makedirs(os.path.dirname(outputPath))\n",
    "\n",
    "        baseRadiomics.to_csv(outputPath)\n",
    "\n",
    "    else:\n",
    "        print(\"Mismatched patient IDs in compactness and base radiomics\")\n"
   ]
  },
  {
   "cell_type": "code",
   "execution_count": 39,
   "metadata": {},
   "outputs": [],
   "source": [
    "negControl = \"shuffled_non_roi\"\n",
    "radFileName =  \"radiomicfeatures_\" + negControl + \"_\" + datasetName + \".csv\"\n",
    "\n",
    "compactnessRadiomics = pd.read_csv(os.path.join(\"/Users/katyscott/Documents/HNC Project/data/\", datasetName, \"radiomic_features_compactness/\", radFileName))\n",
    "\n",
    "baseRadiomics = pd.read_csv(os.path.join(\"/Users/katyscott/Documents/HNC Project/data/\", datasetName, \"radiomic_features/\", radFileName))"
   ]
  },
  {
   "cell_type": "code",
   "execution_count": 40,
   "metadata": {},
   "outputs": [
    {
     "name": "stdout",
     "output_type": "stream",
     "text": [
      "Multiple patient identifier labels found. Using the first one.\n",
      "Multiple patient identifier labels found. Using the first one.\n"
     ]
    }
   ],
   "source": [
    "comRadID = getPatientIdentifierLabel(compactnessRadiomics)\n",
    "baseRadID = getPatientIdentifierLabel(baseRadiomics)\n",
    "\n",
    "compactnessRadiomics.set_index(comRadID, inplace=True)\n",
    "baseRadiomics.set_index(baseRadID, inplace=True)\n",
    "\n",
    "# Check that patient IDs match\n",
    "if all(compactnessRadiomics.index == baseRadiomics.index):\n",
    "\n",
    "    compactOnly = compactnessRadiomics['original_shape_Compactness1']\n",
    "\n",
    "    originalRadiomicsCols = baseRadiomics.filter(regex=r'^original_*')\n",
    "    insertIndex = baseRadiomics.columns.get_loc(originalRadiomicsCols.columns[0])\n",
    "\n",
    "    baseRadiomics.insert(insertIndex, 'original_shape_Compactness1', compactOnly)\n",
    "\n",
    "else:\n",
    "    print(\"Mismatched patient IDs in compactness and base radiomics\")"
   ]
  },
  {
   "cell_type": "code",
   "execution_count": 41,
   "metadata": {},
   "outputs": [],
   "source": [
    "outputPath = os.path.join(\"/Users/katyscott/Documents/HNC Project/data/\", datasetName, \"total_radiomic_features/\", radFileName)\n",
    "baseRadiomics.to_csv(outputPath)"
   ]
  },
  {
   "cell_type": "code",
   "execution_count": 20,
   "metadata": {},
   "outputs": [
    {
     "name": "stdout",
     "output_type": "stream",
     "text": [
      "96\n",
      "Base rad value: HNSCC-01-0320\n",
      "Compact rad value: HNSCC-01-0319\n"
     ]
    }
   ],
   "source": [
    "for idx in range(0, len(compactnessRadiomics)):\n",
    "    if not (baseRadiomics.index[idx] == compactnessRadiomics.index[idx]):\n",
    "        print(idx)\n",
    "        print(\"Base rad value:\", baseRadiomics.index[idx])\n",
    "        print(\"Compact rad value:\", compactnessRadiomics.index[idx])\n",
    "        break"
   ]
  },
  {
   "cell_type": "code",
   "execution_count": null,
   "metadata": {},
   "outputs": [],
   "source": []
  },
  {
   "cell_type": "code",
   "execution_count": 1,
   "metadata": {},
   "outputs": [],
   "source": [
    "import os\n",
    "\n",
    "pyradiomicsParamFilePath = \"/Users/katyscott/Documents/HNC Project/scripts/hnc_readii-2-roqc/config/default_pyradiomics.yaml\"\n",
    "newPyradiomicsParamFileName = \"no_wavelet_\" + os.path.basename(pyradiomicsParamFilePath)\n",
    "newPyradiomicsParamFilePath = os.path.join(os.path.dirname(pyradiomicsParamFilePath), newPyradiomicsParamFileName)"
   ]
  },
  {
   "cell_type": "code",
   "execution_count": 12,
   "metadata": {},
   "outputs": [],
   "source": [
    "import yaml\n",
    "with open(pyradiomicsParamFilePath, 'r') as file:\n",
    "    data = yaml.safe_load(file)\n",
    "\n",
    "imageTypes = data.pop('imageType')\n",
    "del imageTypes['Wavelet']\n",
    "data['imageType'] = imageTypes\n",
    "\n",
    "with open(newPyradiomicsParamFilePath, 'w') as newFile:\n",
    "    yaml.safe_dump(data, newFile, default_flow_style=False)"
   ]
  },
  {
   "cell_type": "code",
   "execution_count": 9,
   "metadata": {},
   "outputs": [],
   "source": [
    "del imageTypes['Wavelet']"
   ]
  },
  {
   "cell_type": "code",
   "execution_count": 6,
   "metadata": {},
   "outputs": [
    {
     "data": {
      "text/plain": [
       "{'featureClass': {'shape': None,\n",
       "  'firstorder': None,\n",
       "  'glcm': None,\n",
       "  'glrlm': None,\n",
       "  'glszm': None,\n",
       "  'gldm': None,\n",
       "  'ngtdm': None},\n",
       " 'setting': {'binWidth': 25, 'resampledPixelSpacing': [1.0, 1.0, 1.0]},\n",
       " 'imageType': {'Original': {},\n",
       "  'Square': {},\n",
       "  'SquareRoot': {},\n",
       "  'Logarithm': {},\n",
       "  'Exponential': {},\n",
       "  'Gradient': {}}}"
      ]
     },
     "execution_count": 6,
     "metadata": {},
     "output_type": "execute_result"
    }
   ],
   "source": [
    "data"
   ]
  },
  {
   "cell_type": "code",
   "execution_count": 12,
   "metadata": {},
   "outputs": [],
   "source": [
    "data['imageType'] = imageTypes"
   ]
  },
  {
   "cell_type": "code",
   "execution_count": 9,
   "metadata": {},
   "outputs": [],
   "source": [
    "data['setting']['resampledPixelSpacing'] = [data['setting']['resampledPixelSpacing']] "
   ]
  },
  {
   "cell_type": "code",
   "execution_count": 10,
   "metadata": {},
   "outputs": [
    {
     "data": {
      "text/plain": [
       "{'featureClass': {'shape': None,\n",
       "  'firstorder': None,\n",
       "  'glcm': None,\n",
       "  'glrlm': None,\n",
       "  'glszm': None,\n",
       "  'gldm': None,\n",
       "  'ngtdm': None},\n",
       " 'setting': {'binWidth': 25, 'resampledPixelSpacing': [[1.0, 1.0, 1.0]]},\n",
       " 'imageType': {'Original': {},\n",
       "  'Square': {},\n",
       "  'SquareRoot': {},\n",
       "  'Logarithm': {},\n",
       "  'Exponential': {},\n",
       "  'Gradient': {}}}"
      ]
     },
     "execution_count": 10,
     "metadata": {},
     "output_type": "execute_result"
    }
   ],
   "source": [
    "data"
   ]
  },
  {
   "cell_type": "code",
   "execution_count": null,
   "metadata": {},
   "outputs": [],
   "source": []
  }
 ],
 "metadata": {
  "kernelspec": {
   "display_name": "yarea",
   "language": "python",
   "name": "python3"
  },
  "language_info": {
   "codemirror_mode": {
    "name": "ipython",
    "version": 3
   },
   "file_extension": ".py",
   "mimetype": "text/x-python",
   "name": "python",
   "nbconvert_exporter": "python",
   "pygments_lexer": "ipython3",
   "version": "3.9.18"
  }
 },
 "nbformat": 4,
 "nbformat_minor": 2
}
