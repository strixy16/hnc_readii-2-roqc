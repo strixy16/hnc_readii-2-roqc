{
 "cells": [
  {
   "cell_type": "code",
   "execution_count": 5,
   "metadata": {},
   "outputs": [],
   "source": [
    "import pandas as pd\n",
    "import yaml\n",
    "import os\n",
    "from modelling_prep import *"
   ]
  },
  {
   "cell_type": "code",
   "execution_count": null,
   "metadata": {},
   "outputs": [],
   "source": [
    "configFile = None\n",
    "config = yaml.safe_load(open(configFile))\n",
    "\n",
    "clinicalDataPath = config['clinical_data_path']\n",
    "radiomicDirPath = config['radiomic_data_dir_path']\n",
    "\n",
    "datasetName = config[\"dataset_name\"]\n",
    "negControlName = config['neg_control_name']\n",
    "outcomeStatus = \n",
    "\n",
    "subsetExcludeVariables = config['exclusion_variables']\n",
    "\n",
    "radiomicDataPath = os.path.join(radiomicDataPath, (\"radiomic-features_\" + negControlName + \"_\" + datasetName + \".csv\"))"
   ]
  },
  {
   "cell_type": "code",
   "execution_count": 2,
   "metadata": {},
   "outputs": [],
   "source": [
    "negControlName = 'randomized_sampled_full'\n",
    "outputDir = \"/Users/katyscott/Documents/HNC Project/RADCURE/aerts_signature_features\""
   ]
  },
  {
   "cell_type": "code",
   "execution_count": 20,
   "metadata": {},
   "outputs": [],
   "source": [
    "# Set paths to clinical and radiomic data files\n",
    "clinicalDataPath = \"/Users/katyscott/Documents/RADCURE/RADCURE-DA-CLINICAL-2.xlsx\"\n",
    "radiomicDataPath = \"/Users/katyscott/Documents/HNC Project/RADCURE/radiomic_features/RADCURE_complete_\" + negControlName + \"_radiomics_features.csv\""
   ]
  },
  {
   "cell_type": "code",
   "execution_count": 3,
   "metadata": {},
   "outputs": [],
   "source": [
    "# Set any conditions for variables to drop from the analysis \n",
    "subsetExcludeVariables = {'RADCURE-challenge': [0],\n",
    "                          'Ds Site': ['Sarcoma', 'Unknown', 'Paraganglioma', 'Salivary Glands', 'Other', 'benign tumor', 'Orbit', 'Lacrimal gland'] }"
   ]
  },
  {
   "cell_type": "code",
   "execution_count": 4,
   "metadata": {},
   "outputs": [],
   "source": [
    "# Load in clinical and radiomic data\n",
    "completeClinicalData = pd.read_excel(clinicalDataPath)\n",
    "completeRadiomicData = pd.read_csv(radiomicDataPath)"
   ]
  },
  {
   "cell_type": "code",
   "execution_count": 5,
   "metadata": {},
   "outputs": [],
   "source": [
    "# Find the patient ID column in the clinical and radiomic data to set these as the index for all the modelling_prep functionality\n",
    "clinicalPatID = getPatientIdentifierLabel(completeClinicalData)\n",
    "radiomicPatID = getPatientIdentifierLabel(completeRadiomicData)"
   ]
  },
  {
   "cell_type": "code",
   "execution_count": 6,
   "metadata": {},
   "outputs": [],
   "source": [
    "# Set patient ID as index in clinical and radiomic data for modelling_prep functions\n",
    "completeClinicalData = completeClinicalData.set_index(clinicalPatID)\n",
    "completeRadiomicData = completeRadiomicData.set_index(radiomicPatID)"
   ]
  },
  {
   "cell_type": "code",
   "execution_count": 7,
   "metadata": {},
   "outputs": [],
   "source": [
    "# Drop any of the excluded variables\n",
    "filteredClinical, filteredRadiomics = filterDataSetup(completeClinicalData, completeRadiomicData, subsetExcludeVariables=subsetExcludeVariables)"
   ]
  },
  {
   "cell_type": "code",
   "execution_count": 8,
   "metadata": {},
   "outputs": [],
   "source": [
    "# Get only radiomic features, remove Pyradiomics diagnostics columns\n",
    "featsOnlyRadiomics = dropPyradiomicsDiagnostics(filteredRadiomics)"
   ]
  },
  {
   "cell_type": "code",
   "execution_count": 9,
   "metadata": {},
   "outputs": [],
   "source": [
    "# Set up the outcome labels for the R script that applies the CPH models\n",
    "outcomeLabels = outcomeLabelSetup(filteredClinical, statusLabel='Status', statusValues=['Alive', 'Dead'], followupLabel=\"Length FU\")"
   ]
  },
  {
   "cell_type": "code",
   "execution_count": 11,
   "metadata": {},
   "outputs": [],
   "source": [
    "# Save out the filtered clinical data that removed non-RADCURE challenge and low instance disease sites\n",
    "filteredClinical.to_csv(\"/Users/katyscott/Documents/HNC Project/RADCURE/clinical_data/updated_filtered_clinical_data_RADCURE.csv\")"
   ]
  },
  {
   "cell_type": "code",
   "execution_count": 12,
   "metadata": {},
   "outputs": [
    {
     "data": {
      "text/plain": [
       "Ds Site\n",
       "Oropharynx           1076\n",
       "Larynx                713\n",
       "Nasopharynx           319\n",
       "Hypopharynx           139\n",
       "Lip & Oral Cavity      81\n",
       "nasal cavity           28\n",
       "Paranasal Sinus        24\n",
       "Nasal Cavity           21\n",
       "esophagus              13\n",
       "Esophagus               9\n",
       "Name: count, dtype: int64"
      ]
     },
     "execution_count": 12,
     "metadata": {},
     "output_type": "execute_result"
    }
   ],
   "source": [
    "filteredClinical['Ds Site'].value_counts()"
   ]
  },
  {
   "cell_type": "markdown",
   "metadata": {},
   "source": [
    "## Set up Aerts signature"
   ]
  },
  {
   "cell_type": "code",
   "execution_count": 13,
   "metadata": {},
   "outputs": [],
   "source": [
    "# Get subset of radiomic features optionally\n",
    "aertsSignature = ['original_firstorder_Energy',\n",
    "                  'original_shape_Compactness1',\n",
    "                  'original_glrlm_GrayLevelNonUniformity',\n",
    "                  'wavelet-HLH_glrlm_GrayLevelNonUniformity']\n",
    "\n",
    "aertsRadiomics = featsOnlyRadiomics[aertsSignature]\n",
    "\n",
    "aertsLabeledFeats = pd.merge(outcomeLabels, aertsRadiomics, left_index=True, right_index=True)"
   ]
  },
  {
   "cell_type": "code",
   "execution_count": 14,
   "metadata": {},
   "outputs": [
    {
     "name": "stdout",
     "output_type": "stream",
     "text": [
      "Getting split for  RADCURE-challenge\n"
     ]
    }
   ],
   "source": [
    "# Separate clinical into train/test based on column\n",
    "# Separate radiomic into train/test based on clinical\n",
    "\n",
    "trainTestSplitInfo = {\"RADCURE-challenge\": [\"training\", \"test\"]}\n",
    "\n",
    "splitClinical, splitAertsLabeledFeats = splitDataSetup(filteredClinical, aertsLabeledFeats, splitVariables=trainTestSplitInfo)"
   ]
  },
  {
   "cell_type": "code",
   "execution_count": 17,
   "metadata": {},
   "outputs": [],
   "source": [
    "trainClinical = splitClinical[\"training\"]\n",
    "testClinical = splitClinical[\"test\"]\n",
    "\n",
    "trainAertsLabeledFeats = splitAertsLabeledFeats['training']\n",
    "testAertsLabeledFeats = splitAertsLabeledFeats['test']"
   ]
  },
  {
   "cell_type": "code",
   "execution_count": 16,
   "metadata": {},
   "outputs": [],
   "source": [
    "# Save out train/test \n",
    "trainAertsLabeledFeats.to_csv(\"/Users/katyscott/Documents/RADCURE/RADCURE_updated_data/uhn_radcure_plus_aerts/training/\" + negControlName + \"_aerts_w_labels.csv\")\n",
    "testAertsLabeledFeats.to_csv(\"/Users/katyscott/Documents/RADCURE/RADCURE_updated_data/uhn_radcure_plus_aerts/test/test_nc_random_aerts_w_labels.csv\")"
   ]
  },
  {
   "cell_type": "code",
   "execution_count": null,
   "metadata": {},
   "outputs": [],
   "source": [
    "trainClinical.shape"
   ]
  },
  {
   "cell_type": "code",
   "execution_count": null,
   "metadata": {},
   "outputs": [],
   "source": [
    "testClinical.shape"
   ]
  },
  {
   "cell_type": "code",
   "execution_count": null,
   "metadata": {},
   "outputs": [],
   "source": [
    "trainAertsLabeledFeats[\"Status_bool\"].sum()"
   ]
  },
  {
   "cell_type": "markdown",
   "metadata": {},
   "source": [
    "## Set up volume only data"
   ]
  },
  {
   "cell_type": "code",
   "execution_count": 17,
   "metadata": {},
   "outputs": [],
   "source": [
    "volumeRadiomics = featsOnlyRadiomics[\"original_shape_MeshVolume\"]\n",
    "volumeLabeledFeats = pd.merge(outcomeLabels, volumeRadiomics, left_index=True, right_index=True)"
   ]
  },
  {
   "cell_type": "code",
   "execution_count": 18,
   "metadata": {},
   "outputs": [
    {
     "name": "stdout",
     "output_type": "stream",
     "text": [
      "Getting split for  RADCURE-challenge\n"
     ]
    }
   ],
   "source": [
    "trainTestSplitInfo = {\"RADCURE-challenge\": [\"training\", \"test\"]}\n",
    "\n",
    "splitClinical, splitVolumeLabeledFeats = splitDataSetup(filteredClinical, volumeLabeledFeats, splitVariables=trainTestSplitInfo)"
   ]
  },
  {
   "cell_type": "code",
   "execution_count": 19,
   "metadata": {},
   "outputs": [],
   "source": [
    "trainClinical = splitClinical[\"training\"]\n",
    "testClinical = splitClinical[\"test\"]\n",
    "\n",
    "trainVolumeLabeledFeats = splitVolumeLabeledFeats['training']\n",
    "testVolumeLabeledFeats = splitVolumeLabeledFeats['test']"
   ]
  },
  {
   "cell_type": "code",
   "execution_count": null,
   "metadata": {},
   "outputs": [],
   "source": [
    "trainClinical.shape"
   ]
  },
  {
   "cell_type": "code",
   "execution_count": null,
   "metadata": {},
   "outputs": [],
   "source": [
    "trainVolumeLabeledFeats.to_csv(\"/Users/katyscott/Documents/RADCURE/RADCURE_updated_data/uhn_radcure_plus_aerts/training/volume_w_labels.csv\")\n",
    "testVolumeLabeledFeats.to_csv(\"/Users/katyscott/Documents/RADCURE/RADCURE_updated_data/uhn_radcure_plus_aerts/test/test_volume_w_labels.csv\")"
   ]
  },
  {
   "cell_type": "markdown",
   "metadata": {},
   "source": [
    "## Oropharynx Data Only (Kwan model)"
   ]
  },
  {
   "cell_type": "code",
   "execution_count": 20,
   "metadata": {},
   "outputs": [],
   "source": [
    "# Get OPC-1 patient list to confirm there's no overlap with the test set from RADCURE \n",
    "opc1_patient_list = pd.read_csv(\"/Users/katyscott/Documents/RADCURE/RADCURE patient id to OPC-Radiomics patient id mapping.csv\")"
   ]
  },
  {
   "cell_type": "code",
   "execution_count": 21,
   "metadata": {},
   "outputs": [
    {
     "name": "stdout",
     "output_type": "stream",
     "text": [
      "Getting split for  Ds Site\n"
     ]
    }
   ],
   "source": [
    "opcIdentifier = {'Ds Site': [\"Oropharynx\"]}\n",
    "testOPCClinical, testOPCAerts = splitDataSetup(testClinical, testAertsLabeledFeats, opcIdentifier)"
   ]
  },
  {
   "cell_type": "code",
   "execution_count": 22,
   "metadata": {},
   "outputs": [
    {
     "name": "stdout",
     "output_type": "stream",
     "text": [
      "Getting split for  Ds Site\n"
     ]
    }
   ],
   "source": [
    "testOPCClinical, testOPCVolume = splitDataSetup(testClinical, testVolumeLabeledFeats, opcIdentifier)"
   ]
  },
  {
   "cell_type": "code",
   "execution_count": 23,
   "metadata": {},
   "outputs": [],
   "source": [
    "dfTestOPClinical = testOPCClinical['Oropharynx']\n",
    "dfTestOPCVolume = testOPCVolume['Oropharynx']\n",
    "dfTestOPCAerts = testOPCAerts['Oropharynx']"
   ]
  },
  {
   "cell_type": "code",
   "execution_count": null,
   "metadata": {},
   "outputs": [],
   "source": [
    "dfTestOPCAerts.to_csv(\"/Users/katyscott/Documents/RADCURE/RADCURE_updated_data/uhn_radcure_plus_aerts/test/OPC_test_nc_random_aerts_w_labels.csv\")\n",
    "dfTestOPCVolume.to_csv(\"/Users/katyscott/Documents/RADCURE/RADCURE_updated_data/uhn_radcure_plus_aerts/test/OPC_test_volume_w_labels.csv\")"
   ]
  },
  {
   "cell_type": "markdown",
   "metadata": {},
   "source": [
    "### Confirming Test OPC set doesn't overlap with the OPC-Radiomics dataset"
   ]
  },
  {
   "cell_type": "code",
   "execution_count": null,
   "metadata": {},
   "outputs": [],
   "source": [
    "test_opc_pat_list = dfTestOPClinical.index.tolist()"
   ]
  },
  {
   "cell_type": "code",
   "execution_count": null,
   "metadata": {},
   "outputs": [],
   "source": [
    "list(set(opc1_patient_list['RADCURE']).intersection(test_opc_pat_list))"
   ]
  },
  {
   "cell_type": "markdown",
   "metadata": {},
   "source": [
    "## Get training OPC-1 dataset"
   ]
  },
  {
   "cell_type": "code",
   "execution_count": 25,
   "metadata": {},
   "outputs": [],
   "source": [
    "opc1_train_radiomic = completeRadiomicData[completeRadiomicData.index.isin(opc1_patient_list['RADCURE'])]\n",
    "opc1_train_clinical = completeClinicalData[completeClinicalData.index.isin(opc1_train_radiomic.index)]"
   ]
  },
  {
   "cell_type": "code",
   "execution_count": 26,
   "metadata": {},
   "outputs": [],
   "source": [
    "opc1_outcome_labels = outcomeLabelSetup(opc1_train_clinical, statusLabel='Status', statusValues=['Alive', 'Dead'], followupLabel=\"Length FU\")"
   ]
  },
  {
   "cell_type": "code",
   "execution_count": 28,
   "metadata": {},
   "outputs": [],
   "source": [
    "opc1_train_featsOnly = dropPyradiomicsDiagnostics(opc1_train_radiomic)\n",
    "opc1_train_aerts_radiomics = opc1_train_featsOnly[aertsSignature]\n",
    "\n",
    "opc1AertsLabeledFeats = pd.merge(opc1_outcome_labels, opc1_train_aerts_radiomics, left_index=True, right_index=True)"
   ]
  },
  {
   "cell_type": "code",
   "execution_count": 29,
   "metadata": {},
   "outputs": [],
   "source": [
    "opc1AertsLabeledFeats.to_csv(\"/Users/katyscott/Documents/RADCURE/RADCURE_updated_data/uhn_radcure_plus_aerts/training/OPC1_train_aerts_w_labels.csv\")"
   ]
  },
  {
   "cell_type": "markdown",
   "metadata": {},
   "source": [
    "### Getting actual OPC-Radiomics Kwan subset from p16 status"
   ]
  },
  {
   "cell_type": "code",
   "execution_count": 36,
   "metadata": {},
   "outputs": [],
   "source": [
    "opc1_p16_positive_clinical = pd.read_excel(\"/Users/katyscott/Documents/RADCURE/OPC1_p16_positive_subset.xlsx\")\n",
    "pat_ids_opc1_p16_positive = opc1_p16_positive_clinical['Trial PatientID']"
   ]
  },
  {
   "cell_type": "code",
   "execution_count": 40,
   "metadata": {},
   "outputs": [],
   "source": [
    "pat_ids_radcure_opc1_p16_pos = opc1_patient_list[opc1_patient_list['OPC-Radiomics'].isin(pat_ids_opc1_p16_positive)]"
   ]
  },
  {
   "cell_type": "code",
   "execution_count": 42,
   "metadata": {},
   "outputs": [],
   "source": [
    "multi_lesion = pd.read_csv(\"/Users/katyscott/Downloads/multiple-lesions-ids.csv\")\n",
    "\n",
    "pat_id_multilesion_p16_pos = pat_ids_radcure_opc1_p16_pos[pat_ids_radcure_opc1_p16_pos['RADCURE'].isin(multi_lesion['USUBJID'])]"
   ]
  },
  {
   "cell_type": "code",
   "execution_count": null,
   "metadata": {},
   "outputs": [],
   "source": []
  }
 ],
 "metadata": {
  "kernelspec": {
   "display_name": "radiogenomics",
   "language": "python",
   "name": "python3"
  },
  "language_info": {
   "codemirror_mode": {
    "name": "ipython",
    "version": 3
   },
   "file_extension": ".py",
   "mimetype": "text/x-python",
   "name": "python",
   "nbconvert_exporter": "python",
   "pygments_lexer": "ipython3",
   "version": "3.10.8"
  }
 },
 "nbformat": 4,
 "nbformat_minor": 2
}
